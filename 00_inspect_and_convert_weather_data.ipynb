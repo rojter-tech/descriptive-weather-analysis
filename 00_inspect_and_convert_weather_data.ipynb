{
 "cells": [
  {
   "cell_type": "markdown",
   "metadata": {},
   "source": [
    "This file describes the contents of the file \n",
    "'stockholm_daily_mean_temperature_1756_2018.txt', which contains daily mean\n",
    "temperatures at the Stockholm Old Astronomical Observatory (59.35N, 18.05E)\n",
    "1756-2018.    \n",
    "\n",
    "Contact person:    \n",
    "\n",
    "Anders Moberg    \n",
    "Department of Physical Geography    \n",
    "Stockholm University    \n",
    "SE-10691 Stockholm, Sweden    \n",
    "anders.moberg@natgeo.su.se    \n",
    "\n",
    "2019-05-03    \n",
    "\n",
    "\n",
    "References:    \n",
    "\n",
    "Moberg A, Bergström H, Ruiz Krigsman J, Svanered O. 2002: Daily air temperature     \n",
    "and pressure series for Stockholm (1756-1998). Climatic Change 53: 171-212    \n",
    "\n",
    "Moberg A, Alexandersson H, Bergström H, Jones PD. 2003: Were Southern Swedish     \n",
    "summer temperatures before 1860 as warm as measured?     \n",
    "Int. J. Climatol. 23: 1495-1521    \n",
    "\n",
    "Project:    \n",
    "\n",
    "IMPROVE - Improved Understanding of Past Climatic Variability from Early Daily     \n",
    "European Instrumental Sources. EU 4th Framework Programme. Contract    \n",
    "ENV4-CT97-0511. 1998-1999. Co-ordinator: Dario Camuffo, Consiglio Nazionale    \n",
    "delle Ricerche, Istituto di Scienze dell'Atmosfera e del Clima, Padova, Italy.    \n",
    "PI at Stockholm University: Anders Moberg    \n",
    "\n",
    "Original data sources:    \n",
    "\n",
    "1756-1858: Archive of the Royal Swedish Academy of Sciences    \n",
    "1859-now:  Swedish Meteorological and Hydrological Institute (SMHI)    \n",
    "\n",
    "Data for 1756-1838 were digitized at the SMHI. Data for 1839-1960 were digitized    \n",
    "within IMPROVE. Data for 1961-2012 were provided digitally by the SMHI.    \n",
    "Data for 2013 and later are obtained from SMHI Öppna Data:    \n",
    "http://opendata-download-metobs.smhi.se/explore/#    \n",
    "\n",
    "\n",
    "--------------------------------------------------------------------------------    \n",
    "\n",
    "Contents of the file 'stockholm_daily_mean_temperature_1756_2018.txt':    \n",
    "\n",
    "Daily temperature data for Stockholm Old Astronomical Observatory     \n",
    "1 Jan 1756 -  31 Dec 2018.    \n",
    "\n",
    "\n",
    "column\t\tdata    \n",
    "\n",
    "1-3          Year, month, day    \n",
    "4            Daily average temperature according to observations.     \n",
    "               Unit: C, Missing values: -999.0    \n",
    "5            Daily average temperature after homogenization and    \n",
    "               with gaps filled in using data from Uppsala.     \n",
    "\t       (see Moberg et al. 2002)    \n",
    "6            Daily average temperatures after adjustment before September 1858     \n",
    "\t       for a supposed warm bias of May-August temperatures.    \n",
    "\t       (see Moberg et al. 2003)    \n",
    "7            Data id no. meaning data from:    \n",
    "               1=Stockholm    \n",
    "               2=Uppsala (ajusted to represent Stockholm)    \n",
    "               3=Stockholm, automatic station (used from 2013 onwards)    \n",
    "\n",
    "Period       Typical number of observations per day,     \n",
    "\t     used in calclulation of daily mean temp.    \n",
    "1757-1760    2    \n",
    "1761-1858    3    \n",
    "1859-1946    3 (& Tmin in summer)    \n",
    "1947-2018    3 & Tmin & Tmax    \n",
    "\n",
    "During 1756-1875 the thermometer was hung in the free air outside a north-facing    \n",
    "window on the second floor of the old astronomical observatory building in    \n",
    "Stockholm. No detailed description is available on this site.     \n",
    "\n",
    "During 1876-1960 the thermometer was placed outside a north-facing window    \n",
    "on the first floor of the old astronomical observatory building in Stockholm.    \n",
    "A window-screeen was in use since 1878.    \n",
    "\n",
    "During 1961- summer 2006 the thermometer was placed in a SMHI-screen     \n",
    "(Stevenson-type screen) about ten metres north-east of the former position.    \n",
    "\n",
    "Since summer 2006, a platinum resistance thermometer in a modern cylindrical     \n",
    "screen close to the SMHI-screen replaced the mercury thermometer in the    \n",
    "SMHI-screen.    \n",
    "\n",
    "From January 2013 onwards, the data used here are based on observations recorded    \n",
    "at the automatic station, which is of the same type as the manually observed    \n",
    "resistance thermometer.    \n",
    "\n",
    "The following adjustments are made to the data column 5:    \n",
    "\n",
    "17560403-17561031\tThe observed temperatures during this period are judged    \n",
    "\t\t\tto be too high, and of poor quality. They have been    \n",
    "\t\t\treplaced with data extrapolated from Uppsala through    \n",
    "\t\t\tlinear regression.     \n",
    "\n",
    "17630225-17630228\tNo observations were made.     \n",
    "\t\t\tDaily temperatures have been extrapolated from Uppsala.    \n",
    "\n",
    "18190801-18250113\tCorrection by -0.7 C.     \n",
    "\t\t\tIncorrect thermometer probably used.    \n",
    "\n",
    "18700111-20181231\tCorrection for urban heat island trend     \n",
    "\t\t\tand other inhomogeneities.    \n",
    "\n",
    "The following additional adjustments are made to the data column 6:    \n",
    "\n",
    "1756-1858, May:  day 1-4:   0.0 C, day 5-9: -0.1 C, day 10-13: -0.2 C,     \n",
    "\t\t day 14-18: -0.3 C, day 19-22: -0.4 C, day 23-27: -0.5 C,     \n",
    "\t\t day 28-31: -0.6 C.     \n",
    "           Jun:  day 1-30: -0.7 C    \n",
    "           Jul:  day 1-31: -0.7 C    \n",
    "           Aug:  day 1-4:  -0.6 C, day 5-9: -0.5 C, day 10-13: -0.4 C,     \n",
    "\t\t day 14-18: -0.3 C, day 19-22: -0.2 C, day 23-27: -0.1 C,     \n",
    "\t\t day 28-31: 0.0 C.    \n",
    "\n",
    "This gives an average adjustment by -0.3 C both  May and August and -0.7 C for    \n",
    "June and July. This adjustment is in agreement with conclusions drawn by Moberg    \n",
    "et al. (2003), but have been determined on an ad hoc basis rather than from a    \n",
    "strict statistical analysis.    \n"
   ]
  },
  {
   "cell_type": "markdown",
   "metadata": {},
   "source": [
    "#### Download and read data"
   ]
  },
  {
   "cell_type": "code",
   "execution_count": 1,
   "metadata": {},
   "outputs": [],
   "source": [
    "import os, requests, re\n",
    "from zipfile import ZipFile\n",
    "\n",
    "source_dir = os.path.join(\"data\",\"source\")\n",
    "url = \"https://www.smhi.se/polopoly_fs/1.2864!/stockholm_daily_mean_temperature_1756_2018.zip\"\n",
    "txt = \"stockholm_daily_mean_temperature_1756_2018.txt\"\n",
    "\n",
    "request = requests.get(url, allow_redirects=True)\n",
    "request_file = os.path.join(source_dir, 'tmp.zip')\n",
    "open(request_file, 'wb').write(request.content)\n",
    "\n",
    "raw_data = []\n",
    "with ZipFile(request_file) as tmpzip:\n",
    "    with tmpzip.open(txt) as file:\n",
    "        for line in file.readlines():\n",
    "            linesplit = re.findall(r'\\S.*?(?<=\\s)|\\d(?=\\n)', line.decode())\n",
    "            raw_data.append(linesplit)\n",
    "\n",
    "os.remove(request_file)"
   ]
  },
  {
   "cell_type": "markdown",
   "metadata": {},
   "source": [
    "#### Convert data"
   ]
  },
  {
   "cell_type": "code",
   "execution_count": 2,
   "metadata": {},
   "outputs": [
    {
     "name": "stdout",
     "output_type": "stream",
     "text": [
      "<class 'pandas.core.frame.DataFrame'>\n",
      "RangeIndex: 96059 entries, 0 to 96058\n",
      "Data columns (total 7 columns):\n",
      "year               96059 non-null int64\n",
      "month              96059 non-null int64\n",
      "day                96059 non-null int64\n",
      "daily_temp         96059 non-null float64\n",
      "daily_temp_homo    96059 non-null float64\n",
      "daily_temp_adj     96059 non-null float64\n",
      "ID                 96059 non-null int64\n",
      "dtypes: float64(3), int64(4)\n",
      "memory usage: 5.1 MB\n"
     ]
    }
   ],
   "source": [
    "import pandas as pd\n",
    "import numpy as np\n",
    "columns = ('year','month','day','daily_temp','daily_temp_homo','daily_temp_adj','ID')\n",
    "\n",
    "dtypes = {'year':int,\n",
    "          'month':int,\n",
    "          'day':int,\n",
    "          'daily_temp':float,\n",
    "          'daily_temp_homo':float,\n",
    "          'daily_temp_adj':float,\n",
    "          'ID':int}\n",
    "\n",
    "i = 0\n",
    "raw_data_array = np.array(raw_data)\n",
    "sthlm_dataset1 = pd.DataFrame(columns=columns)\n",
    "for column in sthlm_dataset1.columns:\n",
    "    sthlm_dataset1[column] = raw_data_array[:,i].astype(dtypes[column])\n",
    "    i+=1\n",
    "\n",
    "sthlm_dataset1.info()"
   ]
  },
  {
   "cell_type": "markdown",
   "metadata": {},
   "source": [
    "#### Encapsulate as a timeindex DataFrame"
   ]
  },
  {
   "cell_type": "code",
   "execution_count": 3,
   "metadata": {},
   "outputs": [
    {
     "name": "stdout",
     "output_type": "stream",
     "text": [
      "<class 'pandas.core.frame.DataFrame'>\n",
      "DatetimeIndex: 96059 entries, 1756-01-01 to 2018-12-31\n",
      "Data columns (total 4 columns):\n",
      "daily_temp         96059 non-null float64\n",
      "daily_temp_homo    96059 non-null float64\n",
      "daily_temp_adj     96059 non-null float64\n",
      "ID                 96059 non-null int64\n",
      "dtypes: float64(3), int64(1)\n",
      "memory usage: 3.7 MB\n"
     ]
    }
   ],
   "source": [
    "timeindex = []\n",
    "for year, month, day in zip(sthlm_dataset1[\"year\"], sthlm_dataset1[\"month\"], sthlm_dataset1[\"day\"]):\n",
    "    timeindex.append(pd.Timestamp(year=year, month=month, day=day))\n",
    "datetimeindex = pd.DatetimeIndex(timeindex)\n",
    "\n",
    "sthlm_df = pd.DataFrame(sthlm_dataset1.iloc[:,3:]).set_index(datetimeindex)\n",
    "sthlm_df1 = pd.DataFrame(np.array(sthlm_df.iloc[:,2]), columns=[\"temperature\"]).set_index(datetimeindex)\n",
    "sthlm_df.info()"
   ]
  },
  {
   "cell_type": "markdown",
   "metadata": {},
   "source": [
    "#### Quality data"
   ]
  },
  {
   "cell_type": "code",
   "execution_count": 30,
   "metadata": {},
   "outputs": [],
   "source": [
    "def smhi_reader(csv_path):\n",
    "    datetimelist = []\n",
    "    temperature = []\n",
    "    with open(csv_path, 'rt') as file:\n",
    "        for line in file.readlines()[10:]:\n",
    "            linesplit = line.split(';')\n",
    "            date = linesplit[2]\n",
    "            temp = linesplit[3]\n",
    "            datetimelist.append(pd.Timestamp(date))\n",
    "            temperature.append(float(temp))\n",
    "    \n",
    "    df = pd.DataFrame(temperature, columns=[\"temperature\"]).set_index(pd.DatetimeIndex(datetimelist))\n",
    "    return df\n",
    "\n",
    "def smhi_concater(hist_df, latest_df):\n",
    "    from_date = hist_df.index[-1] + pd.Timedelta(1, 'D')\n",
    "    from_date = str(from_date).split(' ')[0]\n",
    "    df = pd.concat([hist_df, latest_df[from_date:]])\n",
    "    return df\n",
    "\n",
    "def smhi_temperature_data(hist_path, latest_path):\n",
    "    hist_df = smhi_reader(os.path.join(source_dir, \"sthlm_historical.csv\"))\n",
    "    latest_df = smhi_reader(os.path.join(source_dir, \"sthlm_latest.csv\"))\n",
    "    df = smhi_concater(hist_df, latest_df)\n",
    "    print(\"Data from\",df.index[0].date(),\"to\",df.index[-1].date())\n",
    "    return df\n",
    "\n",
    "def merge(hist_df, latest_df):\n",
    "    from_date = latest_df.index[0] - pd.Timedelta(1, 'D')\n",
    "    from_date = str(from_date).split(' ')[0]\n",
    "    df = pd.concat([hist_df, latest_df[from_date:]])\n",
    "    print(\"Data from\",df.index[0].date(),\"to\",df.index[-1].date())\n",
    "    return df"
   ]
  },
  {
   "cell_type": "code",
   "execution_count": 31,
   "metadata": {},
   "outputs": [
    {
     "name": "stdout",
     "output_type": "stream",
     "text": [
      "Data from 1859-01-01 to 2020-02-01\n"
     ]
    }
   ],
   "source": [
    "sthlm_hist_csv = os.path.join(source_dir, \"sthlm_historical.csv\")\n",
    "sthlm_latest_csv = os.path.join(source_dir, \"sthlm_latest.csv\")\n",
    "sthlm_df2 = smhi_temperature_data(sthlm_hist_csv, sthlm_latest_csv)"
   ]
  },
  {
   "cell_type": "code",
   "execution_count": 32,
   "metadata": {},
   "outputs": [
    {
     "name": "stdout",
     "output_type": "stream",
     "text": [
      "Data from 1756-01-01 to 2020-02-01\n"
     ]
    }
   ],
   "source": [
    "sthlm_full = merge(sthlm_df1, sthlm_df2)"
   ]
  },
  {
   "cell_type": "markdown",
   "metadata": {},
   "source": [
    "#### Save to disk"
   ]
  },
  {
   "cell_type": "code",
   "execution_count": 33,
   "metadata": {},
   "outputs": [],
   "source": [
    "def save_to_disk(df, file_name, compression=\"bz2\"):\n",
    "    pickle_path = os.path.join(\"data\", file_name + '.' + compression)\n",
    "    df.to_pickle(pickle_path, compression=compression)"
   ]
  },
  {
   "cell_type": "code",
   "execution_count": 29,
   "metadata": {},
   "outputs": [
    {
     "data": {
      "text/html": [
       "<div>\n",
       "<style scoped>\n",
       "    .dataframe tbody tr th:only-of-type {\n",
       "        vertical-align: middle;\n",
       "    }\n",
       "\n",
       "    .dataframe tbody tr th {\n",
       "        vertical-align: top;\n",
       "    }\n",
       "\n",
       "    .dataframe thead th {\n",
       "        text-align: right;\n",
       "    }\n",
       "</style>\n",
       "<table border=\"1\" class=\"dataframe\">\n",
       "  <thead>\n",
       "    <tr style=\"text-align: right;\">\n",
       "      <th></th>\n",
       "      <th>temperature</th>\n",
       "    </tr>\n",
       "  </thead>\n",
       "  <tbody>\n",
       "    <tr>\n",
       "      <th>1756-01-01</th>\n",
       "      <td>-8.7</td>\n",
       "    </tr>\n",
       "    <tr>\n",
       "      <th>1756-01-02</th>\n",
       "      <td>-9.2</td>\n",
       "    </tr>\n",
       "    <tr>\n",
       "      <th>1756-01-03</th>\n",
       "      <td>-8.6</td>\n",
       "    </tr>\n",
       "    <tr>\n",
       "      <th>1756-01-04</th>\n",
       "      <td>-7.7</td>\n",
       "    </tr>\n",
       "    <tr>\n",
       "      <th>1756-01-05</th>\n",
       "      <td>-7.2</td>\n",
       "    </tr>\n",
       "    <tr>\n",
       "      <th>...</th>\n",
       "      <td>...</td>\n",
       "    </tr>\n",
       "    <tr>\n",
       "      <th>2020-01-28</th>\n",
       "      <td>3.4</td>\n",
       "    </tr>\n",
       "    <tr>\n",
       "      <th>2020-01-29</th>\n",
       "      <td>3.3</td>\n",
       "    </tr>\n",
       "    <tr>\n",
       "      <th>2020-01-30</th>\n",
       "      <td>2.4</td>\n",
       "    </tr>\n",
       "    <tr>\n",
       "      <th>2020-01-31</th>\n",
       "      <td>3.0</td>\n",
       "    </tr>\n",
       "    <tr>\n",
       "      <th>2020-02-01</th>\n",
       "      <td>6.1</td>\n",
       "    </tr>\n",
       "  </tbody>\n",
       "</table>\n",
       "<p>154823 rows × 1 columns</p>\n",
       "</div>"
      ],
      "text/plain": [
       "            temperature\n",
       "1756-01-01         -8.7\n",
       "1756-01-02         -9.2\n",
       "1756-01-03         -8.6\n",
       "1756-01-04         -7.7\n",
       "1756-01-05         -7.2\n",
       "...                 ...\n",
       "2020-01-28          3.4\n",
       "2020-01-29          3.3\n",
       "2020-01-30          2.4\n",
       "2020-01-31          3.0\n",
       "2020-02-01          6.1\n",
       "\n",
       "[154823 rows x 1 columns]"
      ]
     },
     "execution_count": 29,
     "metadata": {},
     "output_type": "execute_result"
    }
   ],
   "source": [
    "save_to_disk(sthlm_df, \"sthlm_uni_full\")\n",
    "save_to_disk(sthlm_df1, \"sthlm_uni_mini\")\n",
    "save_to_disk(sthlm_df2, \"smhi_daily\")\n",
    "save_to_disk(sthlm_full, \"su_smhi_daily_full\")\n",
    "pickle_path = os.path.join(\"data\", \"su_smhi_daily_full.bz2\")\n",
    "pd.read_pickle(pickle_path)"
   ]
  },
  {
   "cell_type": "code",
   "execution_count": null,
   "metadata": {},
   "outputs": [],
   "source": []
  }
 ],
 "metadata": {
  "kernelspec": {
   "display_name": "Python 3",
   "language": "python",
   "name": "python3"
  },
  "language_info": {
   "codemirror_mode": {
    "name": "ipython",
    "version": 3
   },
   "file_extension": ".py",
   "mimetype": "text/x-python",
   "name": "python",
   "nbconvert_exporter": "python",
   "pygments_lexer": "ipython3",
   "version": "3.8.1"
  }
 },
 "nbformat": 4,
 "nbformat_minor": 4
}
